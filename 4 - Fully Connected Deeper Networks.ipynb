{
 "cells": [
  {
   "cell_type": "markdown",
   "metadata": {},
   "source": [
    "# Deep Learning - Multiple Hidden Layers\n",
    "\n",
    "### This time we will develop a multi-layer fully connected neural network. \n",
    "\n",
    "### Two layer fully connected network consists of \n",
    "* Input layer\n",
    "* Several hidden layers\n",
    "* Output layer\n",
    "\n",
    "### Again we will illistrate this classical method using the MNIST dataset. This could jest as easily be radiograph images although a great deal of data prepartation is done for us.\n",
    "\n",
    "\n",
    "<BR>\n",
    "<BR>\n",
    "<img src=\"./images/mlp_mnist.png\" width=\"600px\"> \n",
    "    "
   ]
  },
  {
   "cell_type": "markdown",
   "metadata": {},
   "source": [
    "# We will introduce a few new neural computaing concepts\n",
    "\n",
    "## I. We will use a different activation function in our hidden layers. \n",
    "\n",
    "* The ReLU is a faster converging function which means it is more computationally efficient. \n",
    "* A drawback of the ReLU function is that it can lead to dead neurons if the learning rate is set too high.\n",
    "* Although we will not explore it today, there is a derivative of the ReLU called the Leaky ReLU which helps to combat the vanishing gradient issue.\n",
    "\n",
    "### <center> Rectified Linear Unit (ReLU) Activation Function </center>\n",
    "\n",
    "<BR>\n",
    "<img src=\"./images/ReLU.png\" width=\"600px\">\n",
    "\n",
    "\n",
    "\n",
    "## II. We will introduce the concept of dropout in our input layers and hidden layers.\n",
    "\n",
    "### The term “dropout” refers to dropping out units (both hidden and visible) in a neural network. Simply put, dropout refers to ignoring units (i.e. neurons) during the training phase chosen at random. By “ignoring”, this means these units are not considered during a particular forward or backward training pass.\n",
    "\n",
    "### We perform dropout to prevent over-fitting our model. A fully connected layer occupies most of the parameters, and hence, neurons develop co-dependency amongst each other during training which curbs the individual power of each neuron leading to over-fitting of training data.\n",
    "\n",
    "### So dropout is an approach to regularization in neural networks which helps reduce interdependent learning amongst the neurons.\n",
    "\n",
    "<BR>\n",
    "<img src=\"./images/dropout.png\" width=\"500px\">\n",
    "<BR>\n",
    "    \n",
    "### Some observations of dropout\n",
    "\n",
    "* Dropout forces a neural network to learn more robust features.\n",
    "* Dropout roughly doubles the number of iterations required to converge. However, training time for each epoch is less.\n",
    "* With <i><b>H</b></i> hidden units, each of which can be dropped, we have $2^H$ possible models. In testing phase, the entire network is considered and each activation is reduced by a factor p.\n",
    "\n",
    "<BR>\n",
    "<img src=\"./images/dropout-prob.png\" width=\"500px\">\n",
    "<BR>\n",
    "    \n",
    "## III. We will introduce a new training optimization function.\n",
    "\n",
    "### RMSPropOptimizer implements an adaptive version of Stochastic Gradient Descent based on the Root Mean Squared Propagation.\n",
    "\n",
    "\n",
    "<BR>\n",
    "<img src=\"./images/RMSProp.png\" width=\"800px\">\n",
    "<BR>"
   ]
  },
  {
   "cell_type": "markdown",
   "metadata": {},
   "source": [
    "# Let's look at our model"
   ]
  },
  {
   "cell_type": "code",
   "execution_count": 1,
   "metadata": {},
   "outputs": [],
   "source": [
    "import numpy as np\n",
    "import time\n",
    "import tqdm\n",
    "import tensorflow as tf\n",
    "from tensorflow.examples.tutorials.mnist import input_data\n",
    "import matplotlib.pyplot as plt\n",
    "%matplotlib inline"
   ]
  },
  {
   "cell_type": "code",
   "execution_count": 2,
   "metadata": {},
   "outputs": [],
   "source": [
    "# This convenience function will randomly initialize our weights  to values from a normal distribution \n",
    "def init_weights(shape):\n",
    "    return tf.Variable(tf.random_normal(shape, stddev=0.01))"
   ]
  },
  {
   "cell_type": "code",
   "execution_count": 3,
   "metadata": {},
   "outputs": [],
   "source": [
    "# Combine the previous dataset with a new dataset of cases\n",
    "def update_d(prev, new):\n",
    "    combined = prev.copy()\n",
    "    combined.update(new)\n",
    "    return combined \n",
    "\n",
    "# We will define a fnction to train our model and display how it is doing\n",
    "def train_model(sess, train_X, train_Y, test_X, test_Y, train_operation, accuracy_operation, num_epochs, batch_size, test_size, train_feed=dict(),test_feed=dict()):\n",
    "    accuracies = []\n",
    "    startingTime = time.time()\n",
    "    with tqdm.tqdm(total = num_epochs * len(train_X)) as ranger:\n",
    "        for epoch in range(num_epochs): # An epoch is a run through our entire training data set\n",
    "            for start in range(0, len(train_X), batch_size): # loop in batches of batch size\n",
    "                end = start + batch_size\n",
    "                sess.run(train_operation, feed_dict=update_d(train_feed, {X: train_X[start:end],y: train_Y[start:end]}))\n",
    "                ranger.update(batch_size)\n",
    "                if (start // batch_size) % 100 == 0: # Let's record accuracy every batch\n",
    "                    testSet = np.random.choice(len(test_X), test_size, replace=False)\n",
    "                    tstX, tstY = test_X[testSet], test_Y[testSet]\n",
    "                    accuracies.append(sess.run(accuracy_operation, feed_dict = update_d(test_feed, {X: tstX, y: tstY})))\n",
    "                    ranger.set_description(\"Test Accuracy: \" + str(accuracies[-1]))\n",
    "            # print out the final test accuracy                                                       \n",
    "            testSet = np.random.choice(len(test_X),test_size,replace=False)\n",
    "            tstX, tstY = test_X[testSet], test_Y[testSet]\n",
    "            accuracies.append(sess.run(accuracy_operation, feed_dict = update_d(test_feed, {X: tstX, y: tstY})))\n",
    "            ranger.set_description(\"Test Accuracy: \" + str(accuracies[-1]))\n",
    "    timeTaken = time.time() - startingTime\n",
    "    print(\"Finished training for %d epochs\" % num_epochs)\n",
    "    print(\"Took %.02f seconds (%.02f s per epoch)\" % (timeTaken, timeTaken/num_epochs))\n",
    "    accuracies.append(sess.run(accuracy_operation, feed_dict = update_d(test_feed, {X:test_X, y: test_Y})))\n",
    "    print(\"Final accuracy was %.04f\" % accuracies[-1])\n",
    "    plt.plot(accuracies)\n"
   ]
  },
  {
   "cell_type": "code",
   "execution_count": 4,
   "metadata": {},
   "outputs": [],
   "source": [
    "# A placeholder is not a value! We just need to define how we will hold onto our training cases. \n",
    "# \"None\" means that this dimension can be any length.\n",
    "\n",
    "# X will be our input placeholder for a image case\n",
    "X = tf.placeholder(\"float\",shape=[None,784])\n",
    "# Y will be a placeholder for our output distribution\n",
    "y = tf.placeholder(\"float\",shape=[None,10])"
   ]
  },
  {
   "cell_type": "code",
   "execution_count": 5,
   "metadata": {},
   "outputs": [],
   "source": [
    "# We will define our weight variables coming in and out of the hidden layers and entering the output layer\n",
    "# We take advantage of the convenience function init_weights to do this work.\n",
    "NUM_HIDDEN = 200\n",
    "W_h1 = init_weights([784,NUM_HIDDEN]) # Weights entering hidden layer 1\n",
    "W_h2 = init_weights([NUM_HIDDEN,NUM_HIDDEN]) # Weights entering hidden layer 2\n",
    "W_o = init_weights([NUM_HIDDEN,10]) # Weights entering the output layer\n",
    "b_h1 = init_weights([1, NUM_HIDDEN]) # Let's define our bias weights for the hidden layer 1\n",
    "b_h2 = init_weights([1, NUM_HIDDEN]) # Let's define our bias weights for the hidden layer 2\n",
    "b_o = init_weights([1, 10]) # Let's define our bias weights for the output layer"
   ]
  },
  {
   "cell_type": "code",
   "execution_count": 6,
   "metadata": {},
   "outputs": [],
   "source": [
    "# We now need some place holders for our dropout parameters\n",
    "drop_rate_input = tf.placeholder(\"float\")\n",
    "drop_rate_hidden = tf.placeholder(\"float\")"
   ]
  },
  {
   "cell_type": "code",
   "execution_count": 7,
   "metadata": {},
   "outputs": [],
   "source": [
    "# Let's calculate our weights between the input layer and the hidden layer\n",
    "# We will also add some dropout to our input layer and our first hidden layer\n",
    "# We will also use the ReLU activation function for our hidden layers\n",
    "out_X = tf.nn.dropout(X, drop_rate_input)\n",
    "in_h1 = tf.matmul(out_X, W_h1) + b_h1\n",
    "out_h1 = tf.nn.dropout(tf.nn.relu(in_h1), drop_rate_hidden)\n",
    "in_h2 = tf.matmul(out_h1, W_h2) + b_h2\n",
    "out_h2 = tf.nn.relu(in_h2)\n",
    "y_hat = tf.matmul(out_h2, W_o) + b_o"
   ]
  },
  {
   "cell_type": "code",
   "execution_count": 8,
   "metadata": {},
   "outputs": [],
   "source": [
    "# Now we can define our loss function. Cross entropy with logits and we average across our batch.\n",
    "# We generate unnormalized log probabilities (aka logits) and we want the outputs normalized linear probabilities\n",
    "cross_entropy = tf.reduce_mean(tf.nn.softmax_cross_entropy_with_logits_v2(labels=y, logits=y_hat))"
   ]
  },
  {
   "cell_type": "code",
   "execution_count": 9,
   "metadata": {},
   "outputs": [],
   "source": [
    "# Define our new RMSProp optimizer\n",
    "# Again, we want to minimize our loss function, that is cross entropy. \n",
    "# We will set a learning rate and a decay of the historical gradient. The smaller the decay factor,\n",
    "# the shorter the effective window. \n",
    "train_operation = tf.train.RMSPropOptimizer(0.001, 0.9).minimize(cross_entropy)\n",
    "\n",
    "# Let's define our prediction operation, that is the largest probability among our 10 possible output labels\n",
    "predict_operation = tf.argmax(y_hat, 1)\n",
    "# Let's define our accuracy operation\n",
    "accuracy_operation = tf.reduce_mean(tf.cast(tf.equal(predict_operation,tf.argmax(y,1)),tf.float32))"
   ]
  },
  {
   "cell_type": "code",
   "execution_count": 10,
   "metadata": {},
   "outputs": [
    {
     "name": "stdout",
     "output_type": "stream",
     "text": [
      "Extracting data\\train-images-idx3-ubyte.gz\n",
      "Extracting data\\train-labels-idx1-ubyte.gz\n",
      "Extracting data\\t10k-images-idx3-ubyte.gz\n",
      "Extracting data\\t10k-labels-idx1-ubyte.gz\n"
     ]
    }
   ],
   "source": [
    "# Let's read in our MNIST data\n",
    "mnist = input_data.read_data_sets(\"data\", one_hot=True)\n",
    "trX, trY = mnist.train.images, mnist.train.labels\n",
    "tstX, tstY = mnist.test.images, mnist.test.labels"
   ]
  },
  {
   "cell_type": "code",
   "execution_count": 11,
   "metadata": {},
   "outputs": [
    {
     "name": "stderr",
     "output_type": "stream",
     "text": [
      "Test Accuracy: 0.9811: 100%|███████████████████████████████████████████████| 2750000/2750000 [06:50<00:00, 6706.25it/s]\n"
     ]
    },
    {
     "name": "stdout",
     "output_type": "stream",
     "text": [
      "Finished training for 50 epochs\n",
      "Took 410.07 seconds (8.20 s per epoch)\n",
      "Final accuracy was 0.9811\n"
     ]
    },
    {
     "data": {
      "text/plain": [
       "(0.8, 1)"
      ]
     },
     "execution_count": 11,
     "metadata": {},
     "output_type": "execute_result"
    },
    {
     "data": {
      "image/png": "[encoded data removed]",
      "text/plain": [
       "<Figure size 432x288 with 1 Axes>"
      ]
     },
     "metadata": {},
     "output_type": "display_data"
    }
   ],
   "source": [
    "NUM_EPOCHS = 50 # Number of complte time through our traing data\n",
    "BATCH_SIZE = 50 # Training batches\n",
    "accuracies = []\n",
    "with tf.Session() as sess:\n",
    "    tf.global_variables_initializer().run()\n",
    "    train_model(sess, trX, trY, tstX, tstY, train_operation, accuracy_operation, NUM_EPOCHS, BATCH_SIZE, 10000,\\\n",
    "               {drop_rate_input:0.7,drop_rate_hidden: 0.4}, {drop_rate_hidden:1, drop_rate_input:1})\n",
    "plt.ylim(.8,1)"
   ]
  },
  {
   "cell_type": "markdown",
   "metadata": {},
   "source": [
    "#### What tuning parameters can we play with?"
   ]
  },
  {
   "cell_type": "code",
   "execution_count": null,
   "metadata": {},
   "outputs": [],
   "source": []
  }
 ],
 "metadata": {
  "kernelspec": {
   "display_name": "Python 3",
   "language": "python",
   "name": "python3"
  },
  "language_info": {
   "codemirror_mode": {
    "name": "ipython",
    "version": 3
   },
   "file_extension": ".py",
   "mimetype": "text/x-python",
   "name": "python",
   "nbconvert_exporter": "python",
   "pygments_lexer": "ipython3",
   "version": "3.6.6"
  }
 },
 "nbformat": 4,
 "nbformat_minor": 2
}
